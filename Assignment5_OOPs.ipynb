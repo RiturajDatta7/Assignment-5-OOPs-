{
  "nbformat": 4,
  "nbformat_minor": 0,
  "metadata": {
    "colab": {
      "provenance": []
    },
    "kernelspec": {
      "name": "python3",
      "display_name": "Python 3"
    },
    "language_info": {
      "name": "python"
    }
  },
  "cells": [
    {
      "cell_type": "markdown",
      "source": [
        "CHALLENGE 1"
      ],
      "metadata": {
        "id": "A5ctDjF94mfO"
      }
    },
    {
      "cell_type": "code",
      "execution_count": 1,
      "metadata": {
        "colab": {
          "base_uri": "https://localhost:8080/"
        },
        "id": "bXD-oN1D4ahq",
        "outputId": "69e0efaf-bbb4-415f-d2b3-254f018da072"
      },
      "outputs": [
        {
          "output_type": "stream",
          "name": "stdout",
          "text": [
            "35\n"
          ]
        }
      ],
      "source": [
        "#Task 1\n",
        "class Point:\n",
        "    def __init__(self, x, y, z):\n",
        "        self.x = x\n",
        "        self.y = y\n",
        "        self.z = z\n",
        "#Task 2\n",
        "    def sqSum(self):\n",
        "        return self.x ** 2 + self.y ** 2 + self.z ** 2\n",
        "\n",
        "p = Point(1, 3, 5)\n",
        "print(p.sqSum())"
      ]
    },
    {
      "cell_type": "markdown",
      "source": [
        "CHALLENGE 2"
      ],
      "metadata": {
        "id": "cMNYgZi_YL7H"
      }
    },
    {
      "cell_type": "code",
      "source": [
        "class Calculator:\n",
        "    def __init__(self, num1, num2):   #Task 1\n",
        "        self.num1 = num1\n",
        "        self.num2 = num2\n",
        "#Task 2\n",
        "    def add(self):\n",
        "        return self.num1 + self.num2\n",
        "\n",
        "    def subtract(self):\n",
        "        return self.num2 - self.num1\n",
        "\n",
        "    def multiply(self):\n",
        "        return self.num1 * self.num2\n",
        "\n",
        "    def divide(self):\n",
        "        return self.num2 / self.num1\n",
        "\n",
        "obj = Calculator(10, 94)\n",
        "print(obj.add())\n",
        "print(obj.subtract())\n",
        "print(obj.multiply())\n",
        "print(obj.divide())"
      ],
      "metadata": {
        "colab": {
          "base_uri": "https://localhost:8080/"
        },
        "id": "z_AttVLqXx-F",
        "outputId": "3d319380-b11d-40f3-f9cf-efe19441d030"
      },
      "execution_count": 2,
      "outputs": [
        {
          "output_type": "stream",
          "name": "stdout",
          "text": [
            "104\n",
            "84\n",
            "940\n",
            "9.4\n"
          ]
        }
      ]
    },
    {
      "cell_type": "markdown",
      "source": [
        "CHALLENGE 3"
      ],
      "metadata": {
        "id": "dqU2QaddYOOW"
      }
    },
    {
      "cell_type": "code",
      "source": [
        "class Student:\n",
        "    def __init__(self):\n",
        "        self.__name = \"\"\n",
        "        self.__rollNumber = \"\"\n",
        "\n",
        "    def setName(self, name):\n",
        "        self.__name = name\n",
        "\n",
        "    def getName(self):\n",
        "        return self.__name\n",
        "\n",
        "    def setRollNumber(self, rollNumber):\n",
        "        self.__rollNumber = rollNumber\n",
        "\n",
        "    def getRollNumber(self):\n",
        "        return self.__rollNumber\n",
        "\n",
        "s = Student()\n",
        "s.setName(\"Rituraj\")\n",
        "s.setRollNumber(\"1234\")\n",
        "print(s.getName())\n",
        "print(s.getRollNumber())"
      ],
      "metadata": {
        "colab": {
          "base_uri": "https://localhost:8080/"
        },
        "id": "w8GeVjxKYROH",
        "outputId": "544e753c-0857-49bc-c5c6-1a14e9830d5e"
      },
      "execution_count": 3,
      "outputs": [
        {
          "output_type": "stream",
          "name": "stdout",
          "text": [
            "Rituraj\n",
            "1234\n"
          ]
        }
      ]
    },
    {
      "cell_type": "markdown",
      "source": [
        "CHALLENGE 4"
      ],
      "metadata": {
        "id": "vCXXj0WFzUsy"
      }
    },
    {
      "cell_type": "code",
      "source": [
        "class Account:\n",
        "    def __init__(self, title = None, balance = 0):\n",
        "        self.__title = title\n",
        "        self.__balance = balance\n",
        "\n",
        "    def getName(self):\n",
        "        return self.__title\n",
        "\n",
        "    def setName(self, title):\n",
        "        self.__title = title\n",
        "\n",
        "    def getBalance(self):\n",
        "        return self.__balance\n",
        "\n",
        "    def setBalance(self, balance):\n",
        "        self.__balance = balance\n",
        "\n",
        "\n",
        "class SavingsAccount(Account):\n",
        "    def __init__(self, title, balance, interestRate):\n",
        "        super().__init__(title, balance)\n",
        "        self.__interestRate = interestRate\n",
        "\n",
        "    def getInterestRate(self):\n",
        "        return self.__interestRate\n",
        "\n",
        "    def setInterestRate(self, interestRate):\n",
        "        self.__interestRate = interestRate"
      ],
      "metadata": {
        "id": "B8GvEOarxi1Z"
      },
      "execution_count": 5,
      "outputs": []
    },
    {
      "cell_type": "code",
      "source": [
        "s = SavingsAccount(\"Ashish\", 5000, 5)\n",
        "print(s.getName())\n",
        "print(s.getBalance())\n",
        "print(s.getInterestRate())\n",
        "\n",
        "s.setInterestRate(0.06)\n",
        "print(s.getInterestRate())"
      ],
      "metadata": {
        "colab": {
          "base_uri": "https://localhost:8080/"
        },
        "id": "rW7X6gpsgwcV",
        "outputId": "6b82214f-2813-4975-c5fc-ea5722f7593f"
      },
      "execution_count": 6,
      "outputs": [
        {
          "output_type": "stream",
          "name": "stdout",
          "text": [
            "Ashish\n",
            "5000\n",
            "5\n",
            "0.06\n"
          ]
        }
      ]
    },
    {
      "cell_type": "markdown",
      "source": [
        "CHALLENGE 5"
      ],
      "metadata": {
        "id": "KSFHCwLghTL3"
      }
    },
    {
      "cell_type": "code",
      "source": [
        "class Account:\n",
        "    def __init__(self, title=None, balance=0):\n",
        "        self.__title = title\n",
        "        self.__balance = balance\n",
        "\n",
        "    def withdrawal(self, amount):\n",
        "        self.__balance -= amount\n",
        "        pass\n",
        "\n",
        "    def deposit(self, amount):\n",
        "        self.__balance += amount\n",
        "        pass\n",
        "\n",
        "    def getBalance(self):\n",
        "        return self.__balance\n",
        "        pass"
      ],
      "metadata": {
        "id": "JYw-mVjCg36R"
      },
      "execution_count": 11,
      "outputs": []
    },
    {
      "cell_type": "code",
      "source": [
        "class SavingsAccount(Account):\n",
        "    def __init__(self, title=None, balance=0, interestRate=0):\n",
        "        super().__init__(title, balance)\n",
        "        self.__interestRate = interestRate\n",
        "\n",
        "    def interestAmount(self):\n",
        "        return (self.getBalance() * self.__interestRate) / 100\n",
        "        pass"
      ],
      "metadata": {
        "id": "cVT8mRplkfc6"
      },
      "execution_count": 12,
      "outputs": []
    },
    {
      "cell_type": "code",
      "source": [
        "s = SavingsAccount(\"Ashish\", 2000, 5)   #initializing a SavingsAccount object\n",
        "s.deposit(500)\n",
        "print(s.getBalance())\n",
        "\n",
        "s.withdrawal(500)\n",
        "print(s.getBalance())\n",
        "\n",
        "print(s.interestAmount())"
      ],
      "metadata": {
        "colab": {
          "base_uri": "https://localhost:8080/"
        },
        "id": "ZlKn-4fykjTW",
        "outputId": "7f12432a-f3e6-4f1a-cbaa-0a828a614ace"
      },
      "execution_count": 15,
      "outputs": [
        {
          "output_type": "stream",
          "name": "stdout",
          "text": [
            "2500\n",
            "2000\n",
            "100.0\n"
          ]
        }
      ]
    }
  ]
}